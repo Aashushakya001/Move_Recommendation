{
 "cells": [
  {
   "cell_type": "code",
   "execution_count": null,
   "id": "14680fa7",
   "metadata": {},
   "outputs": [],
   "source": [
    "import numpy as np\n",
    "import pandas as pd\n",
    "import ast # abstract syntax Tree"
   ]
  },
  {
   "cell_type": "code",
   "execution_count": null,
   "id": "94fac173",
   "metadata": {},
   "outputs": [],
   "source": [
    "movies=pd.read_csv(\"tmdb_5000_movies.csv\")\n",
    "credits=pd.read_csv(\"tmdb_5000_credits.csv\")"
   ]
  },
  {
   "cell_type": "code",
   "execution_count": null,
   "id": "5b344050",
   "metadata": {},
   "outputs": [],
   "source": [
    "movies.head()"
   ]
  },
  {
   "cell_type": "code",
   "execution_count": null,
   "id": "d6143216",
   "metadata": {},
   "outputs": [],
   "source": [
    "credits.head()"
   ]
  },
  {
   "cell_type": "raw",
   "id": "51f6b1a9",
   "metadata": {},
   "source": [
    "We merge the both the file on the bases of 'Title'."
   ]
  },
  {
   "cell_type": "code",
   "execution_count": null,
   "id": "97cd864f",
   "metadata": {},
   "outputs": [],
   "source": [
    "movies=movies.merge(credits,on='title')"
   ]
  },
  {
   "cell_type": "code",
   "execution_count": null,
   "id": "61951c28",
   "metadata": {},
   "outputs": [],
   "source": [
    "movies['title']=movies['title'].apply(lambda x: x.lower())"
   ]
  },
  {
   "cell_type": "code",
   "execution_count": null,
   "id": "5f3fb424",
   "metadata": {},
   "outputs": [],
   "source": [
    "movies.head()"
   ]
  },
  {
   "cell_type": "code",
   "execution_count": null,
   "id": "783c081c",
   "metadata": {},
   "outputs": [],
   "source": [
    "movies.shape"
   ]
  },
  {
   "cell_type": "code",
   "execution_count": null,
   "id": "80e8beeb",
   "metadata": {},
   "outputs": [],
   "source": [
    "movies.info()"
   ]
  },
  {
   "cell_type": "markdown",
   "id": "21bbbe44",
   "metadata": {},
   "source": [
    "COLUMNS THAT I WANT \n",
    "1. genres\n",
    "2. id\n",
    "3. KEYWORD\n",
    "4. TITLE\n",
    "5. OVERVIEW\n",
    "6. CAST\n",
    "7. CREW"
   ]
  },
  {
   "cell_type": "code",
   "execution_count": null,
   "id": "309cc44f",
   "metadata": {},
   "outputs": [],
   "source": [
    "movies=movies[['genres','id','keywords','title','overview','cast','crew']]\n",
    "movies.head()\n"
   ]
  },
  {
   "cell_type": "code",
   "execution_count": null,
   "id": "8d8a3ac6",
   "metadata": {},
   "outputs": [],
   "source": [
    "movies.isnull().sum()"
   ]
  },
  {
   "cell_type": "code",
   "execution_count": null,
   "id": "3122504f",
   "metadata": {},
   "outputs": [],
   "source": [
    "movies.dropna(inplace=True)"
   ]
  },
  {
   "cell_type": "code",
   "execution_count": null,
   "id": "96a87f27",
   "metadata": {},
   "outputs": [],
   "source": [
    "movies.duplicated().sum()"
   ]
  },
  {
   "cell_type": "code",
   "execution_count": null,
   "id": "ec063a71",
   "metadata": {},
   "outputs": [],
   "source": [
    "movies.iloc[0].genres"
   ]
  },
  {
   "cell_type": "markdown",
   "id": "9c1763ac",
   "metadata": {},
   "source": [
    " "
   ]
  },
  {
   "cell_type": "code",
   "execution_count": null,
   "id": "2865b2f0",
   "metadata": {},
   "outputs": [],
   "source": [
    "def convert (text):\n",
    "    l=[]\n",
    "    for i in ast.literal_eval(text):\n",
    "        l.append(i['name'])\n",
    "    return l"
   ]
  },
  {
   "cell_type": "code",
   "execution_count": null,
   "id": "777b4f61",
   "metadata": {},
   "outputs": [],
   "source": [
    "movies['genres'] = movies['genres'].apply(convert)\n",
    "movies.head()"
   ]
  },
  {
   "cell_type": "code",
   "execution_count": null,
   "id": "b53d8a59",
   "metadata": {},
   "outputs": [],
   "source": [
    "movies['keywords'] = movies['keywords'].apply(convert)"
   ]
  },
  {
   "cell_type": "code",
   "execution_count": null,
   "id": "1f2c6b12",
   "metadata": {},
   "outputs": [],
   "source": [
    "movies.head()"
   ]
  },
  {
   "cell_type": "code",
   "execution_count": null,
   "id": "4c018e12",
   "metadata": {},
   "outputs": [],
   "source": [
    "movies.cast[0]"
   ]
  },
  {
   "cell_type": "code",
   "execution_count": null,
   "id": "84bb0d21",
   "metadata": {},
   "outputs": [],
   "source": [
    "def castconvert(text):\n",
    "    l=[]\n",
    "    count=0\n",
    "    for i in ast.literal_eval(text):\n",
    "        if(count!=5):\n",
    "            l.append(i['name'])\n",
    "            count+=1\n",
    "       \n",
    "    return l"
   ]
  },
  {
   "cell_type": "code",
   "execution_count": null,
   "id": "d991b34c",
   "metadata": {},
   "outputs": [],
   "source": [
    "movies['cast']=movies['cast'].apply(castconvert)"
   ]
  },
  {
   "cell_type": "code",
   "execution_count": null,
   "id": "dc822e07",
   "metadata": {},
   "outputs": [],
   "source": [
    "movies.head()"
   ]
  },
  {
   "cell_type": "code",
   "execution_count": null,
   "id": "d9f5817d",
   "metadata": {},
   "outputs": [],
   "source": [
    "movies.crew[0]"
   ]
  },
  {
   "cell_type": "code",
   "execution_count": null,
   "id": "c568b1d1",
   "metadata": {},
   "outputs": [],
   "source": [
    "def crewconvert(text):\n",
    "    l=[]\n",
    "    for i in ast.literal_eval(text):\n",
    "        if(i['job']=='Director'):\n",
    "            l.append(i['name'])\n",
    "    return l"
   ]
  },
  {
   "cell_type": "code",
   "execution_count": null,
   "id": "b4a4bb4f",
   "metadata": {},
   "outputs": [],
   "source": [
    "movies['crew']=movies['crew'].apply(crewconvert)\n",
    "movies.head()"
   ]
  },
  {
   "cell_type": "code",
   "execution_count": null,
   "id": "dec40e81",
   "metadata": {},
   "outputs": [],
   "source": [
    "movies['overview'][0]"
   ]
  },
  {
   "cell_type": "code",
   "execution_count": null,
   "id": "7922a920",
   "metadata": {},
   "outputs": [],
   "source": [
    "import nltk\n",
    "movies['overview']=movies['overview'].apply(lambda x:nltk.word_tokenize(x))\n"
   ]
  },
  {
   "cell_type": "code",
   "execution_count": null,
   "id": "2741cc13",
   "metadata": {},
   "outputs": [],
   "source": [
    "movies.head()"
   ]
  },
  {
   "cell_type": "code",
   "execution_count": null,
   "id": "0fb6dc34",
   "metadata": {},
   "outputs": [],
   "source": [
    "# movies['genres']=movies['genres'].apply(lambda x:[i.replace(\" \",\"\") for i in x])"
   ]
  },
  {
   "cell_type": "code",
   "execution_count": null,
   "id": "810650c3",
   "metadata": {},
   "outputs": [],
   "source": [
    "# movies['keywords']=movies['keywords'].apply(lambda x:[i.replace(\" \",\"\") for i in x])"
   ]
  },
  {
   "cell_type": "code",
   "execution_count": null,
   "id": "f91067e8",
   "metadata": {},
   "outputs": [],
   "source": [
    "# movies['cast']=movies['cast'].apply(lambda x:[i.replace(\" \",\"\") for i in x])"
   ]
  },
  {
   "cell_type": "code",
   "execution_count": null,
   "id": "bc161718",
   "metadata": {},
   "outputs": [],
   "source": [
    "# movies['crew']=movies['crew'].apply(lambda x:[i.replace(\" \",\"\") for i in x])"
   ]
  },
  {
   "cell_type": "code",
   "execution_count": null,
   "id": "67693c0f",
   "metadata": {},
   "outputs": [],
   "source": [
    "movies.head()"
   ]
  },
  {
   "cell_type": "code",
   "execution_count": null,
   "id": "1c623b43",
   "metadata": {},
   "outputs": [],
   "source": [
    "movies['tags']=movies['overview']+movies['genres']+movies['keywords']+movies['cast']+movies['crew']"
   ]
  },
  {
   "cell_type": "code",
   "execution_count": null,
   "id": "05e93909",
   "metadata": {},
   "outputs": [],
   "source": [
    "movies.head()"
   ]
  },
  {
   "cell_type": "code",
   "execution_count": null,
   "id": "3dd860bf",
   "metadata": {},
   "outputs": [],
   "source": [
    "movies=movies[['id','title','tags']]\n",
    "movies.head()"
   ]
  },
  {
   "cell_type": "code",
   "execution_count": null,
   "id": "bb5ad9d8",
   "metadata": {},
   "outputs": [],
   "source": [
    "movies['tags']=movies['tags'].apply(lambda x: \" \".join(x))"
   ]
  },
  {
   "cell_type": "code",
   "execution_count": null,
   "id": "c8338377",
   "metadata": {},
   "outputs": [],
   "source": [
    "movies['tags'][0]"
   ]
  },
  {
   "cell_type": "code",
   "execution_count": null,
   "id": "5c4d5683",
   "metadata": {},
   "outputs": [],
   "source": [
    "movies['tags']=movies['tags'].apply(lambda x: x.lower())"
   ]
  },
  {
   "cell_type": "code",
   "execution_count": null,
   "id": "a5193fd1",
   "metadata": {},
   "outputs": [],
   "source": [
    "movies['tags'][0]"
   ]
  },
  {
   "cell_type": "code",
   "execution_count": null,
   "id": "6a8eaadb",
   "metadata": {},
   "outputs": [],
   "source": [
    "from nltk.stem.porter import PorterStemmer as PS"
   ]
  },
  {
   "cell_type": "code",
   "execution_count": null,
   "id": "b2b7ffbf",
   "metadata": {},
   "outputs": [],
   "source": [
    "ps=PS()"
   ]
  },
  {
   "cell_type": "code",
   "execution_count": null,
   "id": "b2c31745",
   "metadata": {},
   "outputs": [],
   "source": [
    "def stem(text):\n",
    "    y=[]\n",
    "    for i in text.split():\n",
    "        y.append(ps.stem(i))\n",
    "    return \" \".join(y)"
   ]
  },
  {
   "cell_type": "code",
   "execution_count": null,
   "id": "f87fc1b5",
   "metadata": {},
   "outputs": [],
   "source": [
    "# # Example-->\n",
    "# a=[\"Dance\",\"Dances\",\"Dancing\",\"danced\"]\n",
    "# a=['loved','loving','love','lovely']\n",
    "# for i in a:\n",
    "#     print(stem(i))\n"
   ]
  },
  {
   "cell_type": "code",
   "execution_count": null,
   "id": "f251d535",
   "metadata": {},
   "outputs": [],
   "source": [
    "movies['tags']=movies['tags'].apply(stem)"
   ]
  },
  {
   "cell_type": "code",
   "execution_count": null,
   "id": "ce16b783",
   "metadata": {},
   "outputs": [],
   "source": [
    "movies['tags'][0]"
   ]
  },
  {
   "cell_type": "code",
   "execution_count": null,
   "id": "2982bc8a",
   "metadata": {},
   "outputs": [],
   "source": [
    "from sklearn.feature_extraction.text import CountVectorizer as CV"
   ]
  },
  {
   "cell_type": "code",
   "execution_count": null,
   "id": "96d60fa0",
   "metadata": {},
   "outputs": [],
   "source": [
    "cv=CV(max_features=5000,stop_words='english')"
   ]
  },
  {
   "cell_type": "code",
   "execution_count": null,
   "id": "75014efb",
   "metadata": {},
   "outputs": [],
   "source": [
    "vector=cv.fit_transform(movies['tags']).toarray()"
   ]
  },
  {
   "cell_type": "code",
   "execution_count": null,
   "id": "6462ed38",
   "metadata": {},
   "outputs": [],
   "source": [
    "vector"
   ]
  },
  {
   "cell_type": "code",
   "execution_count": null,
   "id": "d2bf3a48",
   "metadata": {},
   "outputs": [],
   "source": [
    "cv.get_feature_names()"
   ]
  },
  {
   "cell_type": "raw",
   "id": "52e26dbe",
   "metadata": {},
   "source": [
    "Distance is inversly proportional to the similarity"
   ]
  },
  {
   "cell_type": "code",
   "execution_count": null,
   "id": "58aa3f29",
   "metadata": {},
   "outputs": [],
   "source": [
    "# from nltk.stem import WordNetLemmatizer"
   ]
  },
  {
   "cell_type": "code",
   "execution_count": null,
   "id": "f022cce8",
   "metadata": {},
   "outputs": [],
   "source": [
    "# lemmatizer = WordNetLemmatizer()"
   ]
  },
  {
   "cell_type": "code",
   "execution_count": null,
   "id": "fcb404b9",
   "metadata": {},
   "outputs": [],
   "source": [
    "# def Abhinav(text):\n",
    "#     y=[lemmatizer.lemmatize(word) for word in text.split()]    \n",
    "\n",
    "#     return \" \".join(y)"
   ]
  },
  {
   "cell_type": "code",
   "execution_count": null,
   "id": "875466ad",
   "metadata": {},
   "outputs": [],
   "source": [
    "# movies['tags']=movies['tags'].apply(Abhinav)"
   ]
  },
  {
   "cell_type": "code",
   "execution_count": null,
   "id": "7c36abb2",
   "metadata": {},
   "outputs": [],
   "source": [
    "from sklearn.metrics.pairwise import cosine_similarity as cs"
   ]
  },
  {
   "cell_type": "code",
   "execution_count": null,
   "id": "c1c8c508",
   "metadata": {},
   "outputs": [],
   "source": [
    "Similarity=cs(vector)"
   ]
  },
  {
   "cell_type": "code",
   "execution_count": null,
   "id": "7c8ea96c",
   "metadata": {},
   "outputs": [],
   "source": [
    "sorted(list(enumerate(Similarity[0])),reverse=True,key=lambda x:x[1])"
   ]
  },
  {
   "cell_type": "code",
   "execution_count": null,
   "id": "f6aee1bb",
   "metadata": {},
   "outputs": [],
   "source": [
    "def recoomendation(text):\n",
    "    movie_index=movies[movies['title']== text].index[0]\n",
    "    distance=Similarity[movie_index]\n",
    "    movie_list=sorted(list(enumerate(distance)),reverse=True,key=lambda x:x[1])[1:6]\n",
    "    k=1\n",
    "    for i in movie_list:\n",
    "        print(k,\". \",end=\" \")\n",
    "        print(movies.iloc[i[0]].title.title())\n",
    "        k+=1"
   ]
  },
  {
   "cell_type": "code",
   "execution_count": null,
   "id": "5f7c8d4c",
   "metadata": {},
   "outputs": [],
   "source": [
    "a=input(\"Enter Movie\").lower()\n",
    "try:\n",
    "    recoomendation(a)\n",
    "except:\n",
    "    print(\"Sorry your Movie don't find in Our Dataset\")"
   ]
  },
  {
   "cell_type": "code",
   "execution_count": null,
   "id": "a0d69c93",
   "metadata": {},
   "outputs": [],
   "source": []
  },
  {
   "cell_type": "code",
   "execution_count": null,
   "id": "09c45101",
   "metadata": {},
   "outputs": [],
   "source": []
  },
  {
   "cell_type": "code",
   "execution_count": null,
   "id": "157068f6",
   "metadata": {},
   "outputs": [],
   "source": []
  }
 ],
 "metadata": {
  "kernelspec": {
   "display_name": "Python 3 (ipykernel)",
   "language": "python",
   "name": "python3"
  },
  "language_info": {
   "codemirror_mode": {
    "name": "ipython",
    "version": 3
   },
   "file_extension": ".py",
   "mimetype": "text/x-python",
   "name": "python",
   "nbconvert_exporter": "python",
   "pygments_lexer": "ipython3",
   "version": "3.9.12"
  }
 },
 "nbformat": 4,
 "nbformat_minor": 5
}
